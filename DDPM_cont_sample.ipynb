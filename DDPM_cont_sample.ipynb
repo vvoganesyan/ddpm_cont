{
 "cells": [
  {
   "cell_type": "markdown",
   "metadata": {},
   "source": [
    "# Imports"
   ]
  },
  {
   "cell_type": "code",
   "execution_count": 1,
   "metadata": {},
   "outputs": [
    {
     "name": "stderr",
     "output_type": "stream",
     "text": [
      "\u001b[34m\u001b[1mwandb\u001b[0m: W&B API key is configured (use `wandb login --relogin` to force relogin)\n"
     ]
    },
    {
     "name": "stdout",
     "output_type": "stream",
     "text": [
      "Files already downloaded and verified\n",
      "Files already downloaded and verified\n"
     ]
    }
   ],
   "source": [
    "from utils import *\n",
    "import os\n",
    "import shutil\n",
    "from PIL import Image\n",
    "from pytorch_fid import fid_score\n",
    "import copy\n",
    "import torch.distributions as D\n",
    "\n",
    "import torch.optim.lr_scheduler as lrsc\n",
    "import wandb\n",
    "import matplotlib.pyplot as plt\n",
    "from tqdm.auto import tqdm, trange\n",
    "\n",
    "from config import *\n",
    "config = get_configs()\n",
    "\n",
    "\n",
    "device = torch.device('cuda:2' if torch.cuda.is_available() else 'cpu')\n",
    "wandb.login()\n",
    "train_loader, val_loader = get_dataset_CIFAR10(config)"
   ]
  },
  {
   "cell_type": "code",
   "execution_count": 15,
   "metadata": {},
   "outputs": [
    {
     "data": {
      "text/plain": [
       "362.0"
      ]
     },
     "execution_count": 15,
     "metadata": {},
     "output_type": "execute_result"
    }
   ],
   "source": [
    "len(os.listdir(\"samples_32_450k\"))/128"
   ]
  },
  {
   "cell_type": "code",
   "execution_count": 16,
   "metadata": {},
   "outputs": [],
   "source": [
    "for i in range(128*128):\n",
    "    shutil.copyfile(f'samples_32/{i}.png', f'samples_32_1/{i}.png')\n",
    "    shutil.copyfile(f'samples_32_450k/{i}.png', f'samples_32_450k_1/{i}.png')"
   ]
  },
  {
   "cell_type": "code",
   "execution_count": 17,
   "metadata": {},
   "outputs": [],
   "source": [
    "for i in range(128*128):\n",
    "    shutil.copyfile(f'real_images/{i}.png', f'real_images_1/{i}.png')"
   ]
  },
  {
   "cell_type": "markdown",
   "metadata": {},
   "source": [
    "# Sampling"
   ]
  },
  {
   "cell_type": "code",
   "execution_count": 20,
   "metadata": {},
   "outputs": [],
   "source": [
    "eps_th = Unet(config)\n",
    "eps_th.to(device)\n",
    "ema_ = ema.ExponentialMovingAverage(eps_th.parameters(), decay=0.9999)"
   ]
  },
  {
   "cell_type": "code",
   "execution_count": 21,
   "metadata": {
    "scrolled": true
   },
   "outputs": [],
   "source": [
    "state = torch.load(config.model.savepath)\n",
    "eps_th.load_state_dict(state['model'], strict=False)\n",
    "ema_.load_state_dict(state['ema'])"
   ]
  },
  {
   "cell_type": "code",
   "execution_count": 22,
   "metadata": {
    "collapsed": true
   },
   "outputs": [
    {
     "data": {
      "text/plain": [
       "Unet(\n",
       "  (unet): DDPM(\n",
       "    (act): SiLU()\n",
       "    (all_modules): ModuleList(\n",
       "      (0): Linear(in_features=128, out_features=512, bias=True)\n",
       "      (1): Linear(in_features=512, out_features=512, bias=True)\n",
       "      (2): Conv2d(3, 128, kernel_size=(3, 3), stride=(1, 1), padding=(1, 1))\n",
       "      (3): ResnetBlockDDPM(\n",
       "        (GroupNorm_0): GroupNorm(32, 128, eps=1e-06, affine=True)\n",
       "        (act): SiLU()\n",
       "        (Conv_0): Conv2d(128, 128, kernel_size=(3, 3), stride=(1, 1), padding=(1, 1))\n",
       "        (Dense_0): Linear(in_features=512, out_features=128, bias=True)\n",
       "        (GroupNorm_1): GroupNorm(32, 128, eps=1e-06, affine=True)\n",
       "        (Dropout_0): Dropout(p=0.1, inplace=False)\n",
       "        (Conv_1): Conv2d(128, 128, kernel_size=(3, 3), stride=(1, 1), padding=(1, 1))\n",
       "      )\n",
       "      (4): ResnetBlockDDPM(\n",
       "        (GroupNorm_0): GroupNorm(32, 128, eps=1e-06, affine=True)\n",
       "        (act): SiLU()\n",
       "        (Conv_0): Conv2d(128, 128, kernel_size=(3, 3), stride=(1, 1), padding=(1, 1))\n",
       "        (Dense_0): Linear(in_features=512, out_features=128, bias=True)\n",
       "        (GroupNorm_1): GroupNorm(32, 128, eps=1e-06, affine=True)\n",
       "        (Dropout_0): Dropout(p=0.1, inplace=False)\n",
       "        (Conv_1): Conv2d(128, 128, kernel_size=(3, 3), stride=(1, 1), padding=(1, 1))\n",
       "      )\n",
       "      (5): Downsample(\n",
       "        (Conv_0): Conv2d(128, 128, kernel_size=(3, 3), stride=(2, 2))\n",
       "      )\n",
       "      (6): ResnetBlockDDPM(\n",
       "        (GroupNorm_0): GroupNorm(32, 128, eps=1e-06, affine=True)\n",
       "        (act): SiLU()\n",
       "        (Conv_0): Conv2d(128, 256, kernel_size=(3, 3), stride=(1, 1), padding=(1, 1))\n",
       "        (Dense_0): Linear(in_features=512, out_features=256, bias=True)\n",
       "        (GroupNorm_1): GroupNorm(32, 256, eps=1e-06, affine=True)\n",
       "        (Dropout_0): Dropout(p=0.1, inplace=False)\n",
       "        (Conv_1): Conv2d(256, 256, kernel_size=(3, 3), stride=(1, 1), padding=(1, 1))\n",
       "        (NIN_0): NIN()\n",
       "      )\n",
       "      (7): AttnBlock(\n",
       "        (GroupNorm_0): GroupNorm(32, 256, eps=1e-06, affine=True)\n",
       "        (NIN_0): NIN()\n",
       "        (NIN_1): NIN()\n",
       "        (NIN_2): NIN()\n",
       "        (NIN_3): NIN()\n",
       "      )\n",
       "      (8): ResnetBlockDDPM(\n",
       "        (GroupNorm_0): GroupNorm(32, 256, eps=1e-06, affine=True)\n",
       "        (act): SiLU()\n",
       "        (Conv_0): Conv2d(256, 256, kernel_size=(3, 3), stride=(1, 1), padding=(1, 1))\n",
       "        (Dense_0): Linear(in_features=512, out_features=256, bias=True)\n",
       "        (GroupNorm_1): GroupNorm(32, 256, eps=1e-06, affine=True)\n",
       "        (Dropout_0): Dropout(p=0.1, inplace=False)\n",
       "        (Conv_1): Conv2d(256, 256, kernel_size=(3, 3), stride=(1, 1), padding=(1, 1))\n",
       "      )\n",
       "      (9): AttnBlock(\n",
       "        (GroupNorm_0): GroupNorm(32, 256, eps=1e-06, affine=True)\n",
       "        (NIN_0): NIN()\n",
       "        (NIN_1): NIN()\n",
       "        (NIN_2): NIN()\n",
       "        (NIN_3): NIN()\n",
       "      )\n",
       "      (10): Downsample(\n",
       "        (Conv_0): Conv2d(256, 256, kernel_size=(3, 3), stride=(2, 2))\n",
       "      )\n",
       "      (11): ResnetBlockDDPM(\n",
       "        (GroupNorm_0): GroupNorm(32, 256, eps=1e-06, affine=True)\n",
       "        (act): SiLU()\n",
       "        (Conv_0): Conv2d(256, 256, kernel_size=(3, 3), stride=(1, 1), padding=(1, 1))\n",
       "        (Dense_0): Linear(in_features=512, out_features=256, bias=True)\n",
       "        (GroupNorm_1): GroupNorm(32, 256, eps=1e-06, affine=True)\n",
       "        (Dropout_0): Dropout(p=0.1, inplace=False)\n",
       "        (Conv_1): Conv2d(256, 256, kernel_size=(3, 3), stride=(1, 1), padding=(1, 1))\n",
       "      )\n",
       "      (12): ResnetBlockDDPM(\n",
       "        (GroupNorm_0): GroupNorm(32, 256, eps=1e-06, affine=True)\n",
       "        (act): SiLU()\n",
       "        (Conv_0): Conv2d(256, 256, kernel_size=(3, 3), stride=(1, 1), padding=(1, 1))\n",
       "        (Dense_0): Linear(in_features=512, out_features=256, bias=True)\n",
       "        (GroupNorm_1): GroupNorm(32, 256, eps=1e-06, affine=True)\n",
       "        (Dropout_0): Dropout(p=0.1, inplace=False)\n",
       "        (Conv_1): Conv2d(256, 256, kernel_size=(3, 3), stride=(1, 1), padding=(1, 1))\n",
       "      )\n",
       "      (13): Downsample(\n",
       "        (Conv_0): Conv2d(256, 256, kernel_size=(3, 3), stride=(2, 2))\n",
       "      )\n",
       "      (14): ResnetBlockDDPM(\n",
       "        (GroupNorm_0): GroupNorm(32, 256, eps=1e-06, affine=True)\n",
       "        (act): SiLU()\n",
       "        (Conv_0): Conv2d(256, 256, kernel_size=(3, 3), stride=(1, 1), padding=(1, 1))\n",
       "        (Dense_0): Linear(in_features=512, out_features=256, bias=True)\n",
       "        (GroupNorm_1): GroupNorm(32, 256, eps=1e-06, affine=True)\n",
       "        (Dropout_0): Dropout(p=0.1, inplace=False)\n",
       "        (Conv_1): Conv2d(256, 256, kernel_size=(3, 3), stride=(1, 1), padding=(1, 1))\n",
       "      )\n",
       "      (15): ResnetBlockDDPM(\n",
       "        (GroupNorm_0): GroupNorm(32, 256, eps=1e-06, affine=True)\n",
       "        (act): SiLU()\n",
       "        (Conv_0): Conv2d(256, 256, kernel_size=(3, 3), stride=(1, 1), padding=(1, 1))\n",
       "        (Dense_0): Linear(in_features=512, out_features=256, bias=True)\n",
       "        (GroupNorm_1): GroupNorm(32, 256, eps=1e-06, affine=True)\n",
       "        (Dropout_0): Dropout(p=0.1, inplace=False)\n",
       "        (Conv_1): Conv2d(256, 256, kernel_size=(3, 3), stride=(1, 1), padding=(1, 1))\n",
       "      )\n",
       "      (16): ResnetBlockDDPM(\n",
       "        (GroupNorm_0): GroupNorm(32, 256, eps=1e-06, affine=True)\n",
       "        (act): SiLU()\n",
       "        (Conv_0): Conv2d(256, 256, kernel_size=(3, 3), stride=(1, 1), padding=(1, 1))\n",
       "        (Dense_0): Linear(in_features=512, out_features=256, bias=True)\n",
       "        (GroupNorm_1): GroupNorm(32, 256, eps=1e-06, affine=True)\n",
       "        (Dropout_0): Dropout(p=0.1, inplace=False)\n",
       "        (Conv_1): Conv2d(256, 256, kernel_size=(3, 3), stride=(1, 1), padding=(1, 1))\n",
       "      )\n",
       "      (17): AttnBlock(\n",
       "        (GroupNorm_0): GroupNorm(32, 256, eps=1e-06, affine=True)\n",
       "        (NIN_0): NIN()\n",
       "        (NIN_1): NIN()\n",
       "        (NIN_2): NIN()\n",
       "        (NIN_3): NIN()\n",
       "      )\n",
       "      (18): ResnetBlockDDPM(\n",
       "        (GroupNorm_0): GroupNorm(32, 256, eps=1e-06, affine=True)\n",
       "        (act): SiLU()\n",
       "        (Conv_0): Conv2d(256, 256, kernel_size=(3, 3), stride=(1, 1), padding=(1, 1))\n",
       "        (Dense_0): Linear(in_features=512, out_features=256, bias=True)\n",
       "        (GroupNorm_1): GroupNorm(32, 256, eps=1e-06, affine=True)\n",
       "        (Dropout_0): Dropout(p=0.1, inplace=False)\n",
       "        (Conv_1): Conv2d(256, 256, kernel_size=(3, 3), stride=(1, 1), padding=(1, 1))\n",
       "      )\n",
       "      (19): ResnetBlockDDPM(\n",
       "        (GroupNorm_0): GroupNorm(32, 512, eps=1e-06, affine=True)\n",
       "        (act): SiLU()\n",
       "        (Conv_0): Conv2d(512, 256, kernel_size=(3, 3), stride=(1, 1), padding=(1, 1))\n",
       "        (Dense_0): Linear(in_features=512, out_features=256, bias=True)\n",
       "        (GroupNorm_1): GroupNorm(32, 256, eps=1e-06, affine=True)\n",
       "        (Dropout_0): Dropout(p=0.1, inplace=False)\n",
       "        (Conv_1): Conv2d(256, 256, kernel_size=(3, 3), stride=(1, 1), padding=(1, 1))\n",
       "        (NIN_0): NIN()\n",
       "      )\n",
       "      (20): ResnetBlockDDPM(\n",
       "        (GroupNorm_0): GroupNorm(32, 512, eps=1e-06, affine=True)\n",
       "        (act): SiLU()\n",
       "        (Conv_0): Conv2d(512, 256, kernel_size=(3, 3), stride=(1, 1), padding=(1, 1))\n",
       "        (Dense_0): Linear(in_features=512, out_features=256, bias=True)\n",
       "        (GroupNorm_1): GroupNorm(32, 256, eps=1e-06, affine=True)\n",
       "        (Dropout_0): Dropout(p=0.1, inplace=False)\n",
       "        (Conv_1): Conv2d(256, 256, kernel_size=(3, 3), stride=(1, 1), padding=(1, 1))\n",
       "        (NIN_0): NIN()\n",
       "      )\n",
       "      (21): ResnetBlockDDPM(\n",
       "        (GroupNorm_0): GroupNorm(32, 512, eps=1e-06, affine=True)\n",
       "        (act): SiLU()\n",
       "        (Conv_0): Conv2d(512, 256, kernel_size=(3, 3), stride=(1, 1), padding=(1, 1))\n",
       "        (Dense_0): Linear(in_features=512, out_features=256, bias=True)\n",
       "        (GroupNorm_1): GroupNorm(32, 256, eps=1e-06, affine=True)\n",
       "        (Dropout_0): Dropout(p=0.1, inplace=False)\n",
       "        (Conv_1): Conv2d(256, 256, kernel_size=(3, 3), stride=(1, 1), padding=(1, 1))\n",
       "        (NIN_0): NIN()\n",
       "      )\n",
       "      (22): Upsample(\n",
       "        (Conv_0): Conv2d(256, 256, kernel_size=(3, 3), stride=(1, 1), padding=(1, 1))\n",
       "      )\n",
       "      (23): ResnetBlockDDPM(\n",
       "        (GroupNorm_0): GroupNorm(32, 512, eps=1e-06, affine=True)\n",
       "        (act): SiLU()\n",
       "        (Conv_0): Conv2d(512, 256, kernel_size=(3, 3), stride=(1, 1), padding=(1, 1))\n",
       "        (Dense_0): Linear(in_features=512, out_features=256, bias=True)\n",
       "        (GroupNorm_1): GroupNorm(32, 256, eps=1e-06, affine=True)\n",
       "        (Dropout_0): Dropout(p=0.1, inplace=False)\n",
       "        (Conv_1): Conv2d(256, 256, kernel_size=(3, 3), stride=(1, 1), padding=(1, 1))\n",
       "        (NIN_0): NIN()\n",
       "      )\n",
       "      (24): ResnetBlockDDPM(\n",
       "        (GroupNorm_0): GroupNorm(32, 512, eps=1e-06, affine=True)\n",
       "        (act): SiLU()\n",
       "        (Conv_0): Conv2d(512, 256, kernel_size=(3, 3), stride=(1, 1), padding=(1, 1))\n",
       "        (Dense_0): Linear(in_features=512, out_features=256, bias=True)\n",
       "        (GroupNorm_1): GroupNorm(32, 256, eps=1e-06, affine=True)\n",
       "        (Dropout_0): Dropout(p=0.1, inplace=False)\n",
       "        (Conv_1): Conv2d(256, 256, kernel_size=(3, 3), stride=(1, 1), padding=(1, 1))\n",
       "        (NIN_0): NIN()\n",
       "      )\n",
       "      (25): ResnetBlockDDPM(\n",
       "        (GroupNorm_0): GroupNorm(32, 512, eps=1e-06, affine=True)\n",
       "        (act): SiLU()\n",
       "        (Conv_0): Conv2d(512, 256, kernel_size=(3, 3), stride=(1, 1), padding=(1, 1))\n",
       "        (Dense_0): Linear(in_features=512, out_features=256, bias=True)\n",
       "        (GroupNorm_1): GroupNorm(32, 256, eps=1e-06, affine=True)\n",
       "        (Dropout_0): Dropout(p=0.1, inplace=False)\n",
       "        (Conv_1): Conv2d(256, 256, kernel_size=(3, 3), stride=(1, 1), padding=(1, 1))\n",
       "        (NIN_0): NIN()\n",
       "      )\n",
       "      (26): Upsample(\n",
       "        (Conv_0): Conv2d(256, 256, kernel_size=(3, 3), stride=(1, 1), padding=(1, 1))\n",
       "      )\n",
       "      (27): ResnetBlockDDPM(\n",
       "        (GroupNorm_0): GroupNorm(32, 512, eps=1e-06, affine=True)\n",
       "        (act): SiLU()\n",
       "        (Conv_0): Conv2d(512, 256, kernel_size=(3, 3), stride=(1, 1), padding=(1, 1))\n",
       "        (Dense_0): Linear(in_features=512, out_features=256, bias=True)\n",
       "        (GroupNorm_1): GroupNorm(32, 256, eps=1e-06, affine=True)\n",
       "        (Dropout_0): Dropout(p=0.1, inplace=False)\n",
       "        (Conv_1): Conv2d(256, 256, kernel_size=(3, 3), stride=(1, 1), padding=(1, 1))\n",
       "        (NIN_0): NIN()\n",
       "      )\n",
       "      (28): ResnetBlockDDPM(\n",
       "        (GroupNorm_0): GroupNorm(32, 512, eps=1e-06, affine=True)\n",
       "        (act): SiLU()\n",
       "        (Conv_0): Conv2d(512, 256, kernel_size=(3, 3), stride=(1, 1), padding=(1, 1))\n",
       "        (Dense_0): Linear(in_features=512, out_features=256, bias=True)\n",
       "        (GroupNorm_1): GroupNorm(32, 256, eps=1e-06, affine=True)\n",
       "        (Dropout_0): Dropout(p=0.1, inplace=False)\n",
       "        (Conv_1): Conv2d(256, 256, kernel_size=(3, 3), stride=(1, 1), padding=(1, 1))\n",
       "        (NIN_0): NIN()\n",
       "      )\n",
       "      (29): ResnetBlockDDPM(\n",
       "        (GroupNorm_0): GroupNorm(32, 384, eps=1e-06, affine=True)\n",
       "        (act): SiLU()\n",
       "        (Conv_0): Conv2d(384, 256, kernel_size=(3, 3), stride=(1, 1), padding=(1, 1))\n",
       "        (Dense_0): Linear(in_features=512, out_features=256, bias=True)\n",
       "        (GroupNorm_1): GroupNorm(32, 256, eps=1e-06, affine=True)\n",
       "        (Dropout_0): Dropout(p=0.1, inplace=False)\n",
       "        (Conv_1): Conv2d(256, 256, kernel_size=(3, 3), stride=(1, 1), padding=(1, 1))\n",
       "        (NIN_0): NIN()\n",
       "      )\n",
       "      (30): AttnBlock(\n",
       "        (GroupNorm_0): GroupNorm(32, 256, eps=1e-06, affine=True)\n",
       "        (NIN_0): NIN()\n",
       "        (NIN_1): NIN()\n",
       "        (NIN_2): NIN()\n",
       "        (NIN_3): NIN()\n",
       "      )\n",
       "      (31): Upsample(\n",
       "        (Conv_0): Conv2d(256, 256, kernel_size=(3, 3), stride=(1, 1), padding=(1, 1))\n",
       "      )\n",
       "      (32): ResnetBlockDDPM(\n",
       "        (GroupNorm_0): GroupNorm(32, 384, eps=1e-06, affine=True)\n",
       "        (act): SiLU()\n",
       "        (Conv_0): Conv2d(384, 128, kernel_size=(3, 3), stride=(1, 1), padding=(1, 1))\n",
       "        (Dense_0): Linear(in_features=512, out_features=128, bias=True)\n",
       "        (GroupNorm_1): GroupNorm(32, 128, eps=1e-06, affine=True)\n",
       "        (Dropout_0): Dropout(p=0.1, inplace=False)\n",
       "        (Conv_1): Conv2d(128, 128, kernel_size=(3, 3), stride=(1, 1), padding=(1, 1))\n",
       "        (NIN_0): NIN()\n",
       "      )\n",
       "      (33): ResnetBlockDDPM(\n",
       "        (GroupNorm_0): GroupNorm(32, 256, eps=1e-06, affine=True)\n",
       "        (act): SiLU()\n",
       "        (Conv_0): Conv2d(256, 128, kernel_size=(3, 3), stride=(1, 1), padding=(1, 1))\n",
       "        (Dense_0): Linear(in_features=512, out_features=128, bias=True)\n",
       "        (GroupNorm_1): GroupNorm(32, 128, eps=1e-06, affine=True)\n",
       "        (Dropout_0): Dropout(p=0.1, inplace=False)\n",
       "        (Conv_1): Conv2d(128, 128, kernel_size=(3, 3), stride=(1, 1), padding=(1, 1))\n",
       "        (NIN_0): NIN()\n",
       "      )\n",
       "      (34): ResnetBlockDDPM(\n",
       "        (GroupNorm_0): GroupNorm(32, 256, eps=1e-06, affine=True)\n",
       "        (act): SiLU()\n",
       "        (Conv_0): Conv2d(256, 128, kernel_size=(3, 3), stride=(1, 1), padding=(1, 1))\n",
       "        (Dense_0): Linear(in_features=512, out_features=128, bias=True)\n",
       "        (GroupNorm_1): GroupNorm(32, 128, eps=1e-06, affine=True)\n",
       "        (Dropout_0): Dropout(p=0.1, inplace=False)\n",
       "        (Conv_1): Conv2d(128, 128, kernel_size=(3, 3), stride=(1, 1), padding=(1, 1))\n",
       "        (NIN_0): NIN()\n",
       "      )\n",
       "      (35): GroupNorm(32, 128, eps=1e-06, affine=True)\n",
       "      (36): Conv2d(128, 3, kernel_size=(3, 3), stride=(1, 1), padding=(1, 1))\n",
       "    )\n",
       "  )\n",
       ")"
      ]
     },
     "execution_count": 22,
     "metadata": {},
     "output_type": "execute_result"
    }
   ],
   "source": [
    "ema_.copy_to(eps_th.parameters())\n",
    "eps_th.eval()"
   ]
  },
  {
   "cell_type": "markdown",
   "metadata": {},
   "source": [
    "# One model"
   ]
  },
  {
   "cell_type": "code",
   "execution_count": null,
   "metadata": {},
   "outputs": [],
   "source": [
    "with torch.no_grad():\n",
    "    save_callable(lambda: sample_sde(device, eps_th, config.data.image_size, config.data.num_channels, 128), \"samples_32_450k\", [config.data.norm_mean, config.data.norm_std], 50000)"
   ]
  },
  {
   "cell_type": "code",
   "execution_count": 8,
   "metadata": {},
   "outputs": [
    {
     "data": {
      "image/png": "[encoded data removed]",
      "text/plain": [
       "<PIL.Image.Image image mode=L size=256x256 at 0x7FCCF04D6C50>"
      ]
     },
     "execution_count": 8,
     "metadata": {},
     "output_type": "execute_result"
    }
   ],
   "source": [
    "big_img = np.zeros((8*32,8*32),dtype=np.uint8)\n",
    "for i in range(8):\n",
    "    for j in range(8):\n",
    "        im = Image.open(f\"sampled_images/{i*8+j}.png\")\n",
    "        big_img[i*32:(i+1)*32, j*32:(j+1)*32] = np.array(im)\n",
    "big_img = Image.fromarray(big_img)\n",
    "big_img"
   ]
  },
  {
   "cell_type": "code",
   "execution_count": 15,
   "metadata": {},
   "outputs": [],
   "source": [
    "save_dataloader(train_loader, 'data_1', 128*128)"
   ]
  },
  {
   "cell_type": "code",
   "execution_count": 18,
   "metadata": {},
   "outputs": [
    {
     "name": "stderr",
     "output_type": "stream",
     "text": [
      "100%|████████████████████████████████████████████████████████████████████████████████████████████████████████████████████████| 128/128 [00:35<00:00,  3.63it/s]\n",
      "100%|████████████████████████████████████████████████████████████████████████████████████████████████████████████████████████| 128/128 [00:35<00:00,  3.65it/s]\n"
     ]
    },
    {
     "name": "stdout",
     "output_type": "stream",
     "text": [
      "6.349314006774648\n"
     ]
    }
   ],
   "source": [
    "res = fid_score.calculate_fid_given_paths(\n",
    "        paths=['real_images_1', 'samples_32_450k_1'],\n",
    "        batch_size=128,\n",
    "        device=device,\n",
    "        dims=2048\n",
    "    )\n",
    "print(res)"
   ]
  },
  {
   "cell_type": "code",
   "execution_count": 19,
   "metadata": {},
   "outputs": [
    {
     "name": "stderr",
     "output_type": "stream",
     "text": [
      "100%|████████████████████████████████████████████████████████████████████████████████████████████████████████████████████████| 128/128 [00:36<00:00,  3.52it/s]\n",
      "100%|████████████████████████████████████████████████████████████████████████████████████████████████████████████████████████| 128/128 [00:37<00:00,  3.45it/s]\n"
     ]
    },
    {
     "name": "stdout",
     "output_type": "stream",
     "text": [
      "6.33653030912285\n"
     ]
    }
   ],
   "source": [
    "res = fid_score.calculate_fid_given_paths(\n",
    "        paths=['real_images_1', 'samples_32_1'],\n",
    "        batch_size=128,\n",
    "        device=device,\n",
    "        dims=2048\n",
    "    )\n",
    "print(res)"
   ]
  },
  {
   "cell_type": "code",
   "execution_count": 20,
   "metadata": {},
   "outputs": [
    {
     "name": "stderr",
     "output_type": "stream",
     "text": [
      "100%|████████████████████████████████████████████████████████████████████████████████████████████████████████████████████████| 390/390 [01:51<00:00,  3.50it/s]\n",
      "100%|████████████████████████████████████████████████████████████████████████████████████████████████████████████████████████| 390/390 [01:51<00:00,  3.50it/s]\n"
     ]
    },
    {
     "name": "stdout",
     "output_type": "stream",
     "text": [
      "4.2377748437494915\n"
     ]
    }
   ],
   "source": [
    "res = fid_score.calculate_fid_given_paths(\n",
    "        paths=['real_images', 'samples_32'],\n",
    "        batch_size=128,\n",
    "        device=device,\n",
    "        dims=2048\n",
    "    )\n",
    "print(res)"
   ]
  },
  {
   "cell_type": "code",
   "execution_count": null,
   "metadata": {},
   "outputs": [],
   "source": []
  }
 ],
 "metadata": {
  "kernelspec": {
   "display_name": "Python 3 (ipykernel)",
   "language": "python",
   "name": "python3"
  },
  "language_info": {
   "codemirror_mode": {
    "name": "ipython",
    "version": 3
   },
   "file_extension": ".py",
   "mimetype": "text/x-python",
   "name": "python",
   "nbconvert_exporter": "python",
   "pygments_lexer": "ipython3",
   "version": "3.7.3"
  }
 },
 "nbformat": 4,
 "nbformat_minor": 2
}
