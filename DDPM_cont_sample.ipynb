{
 "cells": [
  {
   "cell_type": "markdown",
   "metadata": {},
   "source": [
    "# Imports"
   ]
  },
  {
   "cell_type": "code",
   "execution_count": 1,
   "metadata": {},
   "outputs": [
    {
     "name": "stderr",
     "output_type": "stream",
     "text": [
      "\u001b[34m\u001b[1mwandb\u001b[0m: Currently logged in as: \u001b[33mvvoganesyan\u001b[0m (use `wandb login --relogin` to force relogin)\n"
     ]
    },
    {
     "name": "stdout",
     "output_type": "stream",
     "text": [
      "Files already downloaded and verified\n",
      "Files already downloaded and verified\n"
     ]
    }
   ],
   "source": [
    "from utils import *\n",
    "import os\n",
    "import shutil\n",
    "from PIL import Image\n",
    "from pytorch_fid import fid_score\n",
    "import copy\n",
    "\n",
    "import torch.distributions as D\n",
    "\n",
    "import torch.optim.lr_scheduler as lrsc\n",
    "import wandb\n",
    "import matplotlib.pyplot as plt\n",
    "from tqdm.auto import tqdm, trange\n",
    "\n",
    "model_dict = dict()\n",
    "model_dict['nf'] = 128\n",
    "model_dict['ch_mult'] = (1, 2, 2)\n",
    "model_dict['num_res_blocks'] = 2\n",
    "model_dict['attn_resolutions'] = (16,)\n",
    "model_dict['dropout'] = 0.1\n",
    "model_dict['resamp_with_conv'] = True\n",
    "model_dict['conditional'] = True\n",
    "model_dict['nonlinearity'] = 'swish'\n",
    "model_dict['sigma_max'] = 50\n",
    "model_dict['sigma_min'] = 0.01\n",
    "model_dict['num_scales'] = 1000\n",
    "data_dict = dict()\n",
    "data_dict['image_size'] = 32\n",
    "data_dict['num_channels'] = 3\n",
    "data_dict['centered'] = True\n",
    "train_dict = dict()\n",
    "train_dict['grad_clip'] = 1.0\n",
    "train_dict['warmup'] = 5000\n",
    "train_dict['lr'] = 2e-4\n",
    "config_dict = dict()\n",
    "config_dict['model'] = dotdict(model_dict)\n",
    "config_dict['data'] = dotdict(data_dict)\n",
    "config_dict['train'] = dotdict(train_dict)\n",
    "config = dotdict(config_dict)\n",
    "\n",
    "\n",
    "device = torch.device('cuda' if torch.cuda.is_available() else 'cpu')\n",
    "wandb.login()\n",
    "train_loader, val_loader = get_datasets()"
   ]
  },
  {
   "cell_type": "markdown",
   "metadata": {},
   "source": [
    "# Sampling"
   ]
  },
  {
   "cell_type": "code",
   "execution_count": 2,
   "metadata": {},
   "outputs": [],
   "source": [
    "eps_th = Unet(config)\n",
    "eps_th.to(device)\n",
    "ema_ = ema.ExponentialMovingAverage(eps_th.parameters(), decay=0.9999)"
   ]
  },
  {
   "cell_type": "code",
   "execution_count": 3,
   "metadata": {},
   "outputs": [],
   "source": [
    "exp_name = 'ddpm_32x32'\n",
    "eps_th.load_state_dict(torch.load(f'{exp_name}_model'), strict=False)\n",
    "ema_.load_state_dict(torch.load(f'{exp_name}_ema'))"
   ]
  },
  {
   "cell_type": "code",
   "execution_count": 4,
   "metadata": {},
   "outputs": [],
   "source": [
    "ema_.copy_to(eps_th.parameters())"
   ]
  },
  {
   "cell_type": "markdown",
   "metadata": {},
   "source": [
    "# One model"
   ]
  },
  {
   "cell_type": "code",
   "execution_count": 5,
   "metadata": {},
   "outputs": [],
   "source": [
    "with torch.no_grad():\n",
    "    save_callable(lambda: sample_sde(device, eps_th), \"data_3\", 128)"
   ]
  },
  {
   "cell_type": "code",
   "execution_count": 15,
   "metadata": {},
   "outputs": [],
   "source": [
    "save_dataloader(train_loader, 'data_1', 128*128)"
   ]
  },
  {
   "cell_type": "code",
   "execution_count": 13,
   "metadata": {},
   "outputs": [
    {
     "name": "stderr",
     "output_type": "stream",
     "text": [
      "100%|██████████| 128/128 [00:33<00:00,  3.79it/s]\n",
      "100%|██████████| 128/128 [00:34<00:00,  3.73it/s]\n"
     ]
    },
    {
     "name": "stdout",
     "output_type": "stream",
     "text": [
      "10.201483234328634\n"
     ]
    }
   ],
   "source": [
    "res = fid_score.calculate_fid_given_paths(\n",
    "        paths=['data_1', 'data_2'],\n",
    "        batch_size=128,\n",
    "        device=device,\n",
    "        dims=2048\n",
    "    )\n",
    "print(res)"
   ]
  },
  {
   "cell_type": "code",
   "execution_count": 6,
   "metadata": {},
   "outputs": [
    {
     "ename": "NameError",
     "evalue": "name 'shutil' is not defined",
     "output_type": "error",
     "traceback": [
      "\u001b[0;31m---------------------------------------------------------------------------\u001b[0m",
      "\u001b[0;31mNameError\u001b[0m                                 Traceback (most recent call last)",
      "\u001b[0;32m<ipython-input-6-210d3a58d8d4>\u001b[0m in \u001b[0;36m<module>\u001b[0;34m\u001b[0m\n\u001b[0;32m----> 1\u001b[0;31m \u001b[0mrmdir\u001b[0m\u001b[0;34m(\u001b[0m\u001b[0;34m'data_1'\u001b[0m\u001b[0;34m)\u001b[0m\u001b[0;34m\u001b[0m\u001b[0;34m\u001b[0m\u001b[0m\n\u001b[0m",
      "\u001b[0;32m~/ddpm_cont/utils.py\u001b[0m in \u001b[0;36mrmdir\u001b[0;34m(path)\u001b[0m\n\u001b[1;32m    183\u001b[0m \u001b[0;34m\u001b[0m\u001b[0m\n\u001b[1;32m    184\u001b[0m \u001b[0;32mdef\u001b[0m \u001b[0mrmdir\u001b[0m\u001b[0;34m(\u001b[0m\u001b[0mpath\u001b[0m\u001b[0;34m)\u001b[0m\u001b[0;34m:\u001b[0m\u001b[0;34m\u001b[0m\u001b[0;34m\u001b[0m\u001b[0m\n\u001b[0;32m--> 185\u001b[0;31m     \u001b[0mshutil\u001b[0m\u001b[0;34m.\u001b[0m\u001b[0mrmtree\u001b[0m\u001b[0;34m(\u001b[0m\u001b[0mpath\u001b[0m\u001b[0;34m)\u001b[0m\u001b[0;34m\u001b[0m\u001b[0;34m\u001b[0m\u001b[0m\n\u001b[0m\u001b[1;32m    186\u001b[0m \u001b[0;34m\u001b[0m\u001b[0m\n\u001b[1;32m    187\u001b[0m \u001b[0;32mdef\u001b[0m \u001b[0msave_img\u001b[0m\u001b[0;34m(\u001b[0m\u001b[0mp\u001b[0m\u001b[0;34m,\u001b[0m \u001b[0mpath\u001b[0m\u001b[0;34m,\u001b[0m \u001b[0mnum\u001b[0m\u001b[0;34m)\u001b[0m\u001b[0;34m:\u001b[0m\u001b[0;34m\u001b[0m\u001b[0;34m\u001b[0m\u001b[0m\n",
      "\u001b[0;31mNameError\u001b[0m: name 'shutil' is not defined"
     ]
    }
   ],
   "source": [
    "rmdir('data_1')"
   ]
  },
  {
   "cell_type": "code",
   "execution_count": null,
   "metadata": {},
   "outputs": [],
   "source": []
  }
 ],
 "metadata": {
  "kernelspec": {
   "display_name": "Python 3",
   "language": "python",
   "name": "python3"
  },
  "language_info": {
   "codemirror_mode": {
    "name": "ipython",
    "version": 3
   },
   "file_extension": ".py",
   "mimetype": "text/x-python",
   "name": "python",
   "nbconvert_exporter": "python",
   "pygments_lexer": "ipython3",
   "version": "3.7.9"
  }
 },
 "nbformat": 4,
 "nbformat_minor": 2
}
