{
 "cells": [
  {
   "cell_type": "markdown",
   "metadata": {},
   "source": [
    "# Imports"
   ]
  },
  {
   "cell_type": "code",
   "execution_count": 1,
   "metadata": {},
   "outputs": [
    {
     "name": "stderr",
     "output_type": "stream",
     "text": [
      "\u001b[34m\u001b[1mwandb\u001b[0m: Currently logged in as: \u001b[33mvvoganesyan\u001b[0m (use `wandb login --relogin` to force relogin)\n"
     ]
    },
    {
     "name": "stdout",
     "output_type": "stream",
     "text": [
      "Files already downloaded and verified\n",
      "Files already downloaded and verified\n"
     ]
    }
   ],
   "source": [
    "from train.utils import *\n",
    "import os\n",
    "import shutil\n",
    "from PIL import Image\n",
    "from pytorch_fid import fid_score\n",
    "import copy\n",
    "\n",
    "import torch.distributions as D\n",
    "\n",
    "import torch.optim.lr_scheduler as lrsc\n",
    "import wandb\n",
    "import matplotlib.pyplot as plt\n",
    "from tqdm.auto import tqdm, trange\n",
    "\n",
    "model_dict = dict()\n",
    "model_dict['nf'] = 128\n",
    "model_dict['ch_mult'] = (1, 2, 2, 2)\n",
    "model_dict['num_res_blocks'] = 4\n",
    "model_dict['attn_resolutions'] = (16,)\n",
    "model_dict['dropout'] = 0.1\n",
    "model_dict['resamp_with_conv'] = True\n",
    "model_dict['conditional'] = True\n",
    "model_dict['nonlinearity'] = 'swish'\n",
    "model_dict['sigma_max'] = 50\n",
    "model_dict['sigma_min'] = 0.01\n",
    "model_dict['num_scales'] = 1000\n",
    "data_dict = dict()\n",
    "data_dict['image_size'] = 32\n",
    "data_dict['num_channels'] = 3\n",
    "data_dict['centered'] = True\n",
    "config_dict = dict()\n",
    "config_dict['model'] = dotdict(model_dict)\n",
    "config_dict['data'] = dotdict(data_dict)\n",
    "config = dotdict(config_dict)\n",
    "\n",
    "\n",
    "device = torch.device('cuda' if torch.cuda.is_available() else 'cpu')\n",
    "wandb.login()\n",
    "train_loader, val_loader = get_datasets()"
   ]
  },
  {
   "cell_type": "code",
   "execution_count": 2,
   "metadata": {},
   "outputs": [],
   "source": [
    "# config.data.image_size = 16"
   ]
  },
  {
   "cell_type": "markdown",
   "metadata": {},
   "source": [
    "# Sampling"
   ]
  },
  {
   "cell_type": "code",
   "execution_count": 3,
   "metadata": {},
   "outputs": [],
   "source": [
    "eps_th = Unet(config)\n",
    "eps_th.to(device)\n",
    "\n",
    "dequant = GaussDequant(scale=0)\n",
    "dequant.to(device)\n",
    "ema_ = ema.ExponentialMovingAverage(eps_th.parameters(), decay=0.9999)"
   ]
  },
  {
   "cell_type": "code",
   "execution_count": 4,
   "metadata": {},
   "outputs": [],
   "source": [
    "exp_name = 'ddpm'\n",
    "eps_th.load_state_dict(torch.load(f'{exp_name}_model'))\n",
    "ema_.load_state_dict(torch.load(f'{exp_name}_ema'))"
   ]
  },
  {
   "cell_type": "code",
   "execution_count": 5,
   "metadata": {},
   "outputs": [],
   "source": [
    "ema_.copy_to(eps_th.parameters())"
   ]
  },
  {
   "cell_type": "code",
   "execution_count": 94,
   "metadata": {},
   "outputs": [],
   "source": [
    "# config.data.image_size = 32\n",
    "# config.model.ch_mult = (1,2,2,2)\n",
    "# eps_th_big = Unet(config)\n",
    "# eps_th_big.to(device)\n",
    "\n",
    "# ema_ = ema.ExponentialMovingAverage(eps_th_big.parameters(), decay=0.9999)"
   ]
  },
  {
   "cell_type": "code",
   "execution_count": 95,
   "metadata": {},
   "outputs": [],
   "source": [
    "# eps_th_big.load_state_dict(torch.load('ddpm_model'))\n",
    "# ema_.load_state_dict(torch.load('ddpm_ema'))"
   ]
  },
  {
   "cell_type": "code",
   "execution_count": 96,
   "metadata": {},
   "outputs": [],
   "source": [
    "# ema_.copy_to(eps_th_big.parameters())"
   ]
  },
  {
   "cell_type": "code",
   "execution_count": 8,
   "metadata": {},
   "outputs": [],
   "source": [
    "# with torch.no_grad():\n",
    "#     save_callable(lambda: gen_discrete(eps_th), \"data_2_Grisha\", 128*128)"
   ]
  },
  {
   "cell_type": "code",
   "execution_count": 68,
   "metadata": {},
   "outputs": [],
   "source": [
    "# cov_matrix = torch.tensor([[1.0084, 0.9407, 0.9244, 0.8750],\n",
    "#         [0.9407, 1.0070, 0.8756, 0.9229],\n",
    "#         [0.9244, 0.8756, 0.9955, 0.9278],\n",
    "#         [0.8750, 0.9229, 0.9278, 0.9940]])"
   ]
  },
  {
   "cell_type": "markdown",
   "metadata": {},
   "source": [
    "# Two models"
   ]
  },
  {
   "cell_type": "code",
   "execution_count": 82,
   "metadata": {},
   "outputs": [
    {
     "name": "stderr",
     "output_type": "stream",
     "text": [
      "<ipython-input-67-021575f8bc35>:16: UserWarning: To copy construct from a tensor, it is recommended to use sourceTensor.clone().detach() or sourceTensor.clone().detach().requires_grad_(True), rather than torch.tensor(sourceTensor).\n",
      "  initial_cov = torch.tensor(initial_cov, device=device, dtype=torch.float)\n"
     ]
    }
   ],
   "source": [
    "alpha02 = alpha(torch.tensor(0.2))\n",
    "sigma02 = sigma_2(torch.tensor(0.2))\n",
    "x = upsample_image(lowres1[0], cov_matrix=cov_matrix, alpha_t=alpha02, sigma_t_2=sigma02)"
   ]
  },
  {
   "cell_type": "code",
   "execution_count": 105,
   "metadata": {},
   "outputs": [
    {
     "data": {
      "application/vnd.jupyter.widget-view+json": {
       "model_id": "11db6e1ca91d4a58873680eaa290115a",
       "version_major": 2,
       "version_minor": 0
      },
      "text/plain": [
       "HBox(children=(HTML(value=''), FloatProgress(value=0.0, max=40.0), HTML(value='')))"
      ]
     },
     "metadata": {},
     "output_type": "display_data"
    },
    {
     "name": "stderr",
     "output_type": "stream",
     "text": [
      "<ipython-input-67-021575f8bc35>:16: UserWarning: To copy construct from a tensor, it is recommended to use sourceTensor.clone().detach() or sourceTensor.clone().detach().requires_grad_(True), rather than torch.tensor(sourceTensor).\n",
      "  initial_cov = torch.tensor(initial_cov, device=device, dtype=torch.float)\n"
     ]
    },
    {
     "name": "stdout",
     "output_type": "stream",
     "text": [
      "\n"
     ]
    }
   ],
   "source": [
    "num = 0\n",
    "with torch.no_grad():\n",
    "    for i in tqdm(range(40)):\n",
    "        x = upsample_image(lowres1[i], cov_matrix=cov_matrix, alpha_t=alpha02, sigma_t_2=sigma02)\n",
    "        y = sample_sde_mid(x, ts=0.2, tf=0.0)\n",
    "        num = save_batch(y, 'data_2_us', num)"
   ]
  },
  {
   "cell_type": "code",
   "execution_count": null,
   "metadata": {},
   "outputs": [],
   "source": []
  }
 ],
 "metadata": {
  "kernelspec": {
   "display_name": "Python 3",
   "language": "python",
   "name": "python3"
  },
  "language_info": {
   "codemirror_mode": {
    "name": "ipython",
    "version": 3
   },
   "file_extension": ".py",
   "mimetype": "text/x-python",
   "name": "python",
   "nbconvert_exporter": "python",
   "pygments_lexer": "ipython3",
   "version": "3.8.5"
  }
 },
 "nbformat": 4,
 "nbformat_minor": 2
}
