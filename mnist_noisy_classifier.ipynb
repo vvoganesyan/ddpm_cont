{
 "cells": [
  {
   "cell_type": "markdown",
   "metadata": {},
   "source": [
    "# Imports"
   ]
  },
  {
   "cell_type": "code",
   "execution_count": 2,
   "metadata": {},
   "outputs": [
    {
     "name": "stderr",
     "output_type": "stream",
     "text": [
      "\u001b[34m\u001b[1mwandb\u001b[0m: Currently logged in as: \u001b[33mvvoganesyan\u001b[0m (use `wandb login --relogin` to force relogin)\n"
     ]
    }
   ],
   "source": [
    "from utils import *\n",
    "import os\n",
    "import shutil\n",
    "from PIL import Image\n",
    "from pytorch_fid import fid_score\n",
    "import copy\n",
    "import torch.distributions as D\n",
    "\n",
    "from torchvision.models import resnet18\n",
    "from torch import nn\n",
    "import torch.optim.lr_scheduler as lrsc\n",
    "import wandb\n",
    "import matplotlib.pyplot as plt\n",
    "from tqdm.auto import tqdm, trange\n",
    "\n",
    "from config_mnist import *\n",
    "config = get_configs()\n",
    "\n",
    "\n",
    "device = torch.device('cuda:2' if torch.cuda.is_available() else 'cpu')\n",
    "wandb.login()\n",
    "train_loader, val_loader = get_dataset_MNIST(config)"
   ]
  },
  {
   "cell_type": "code",
   "execution_count": 9,
   "metadata": {},
   "outputs": [],
   "source": [
    "a = np.random.rand(3,10)\n",
    "label = 3"
   ]
  },
  {
   "cell_type": "code",
   "execution_count": 21,
   "metadata": {},
   "outputs": [
    {
     "data": {
      "text/plain": [
       "[array([0, 1, 2]), 3]"
      ]
     },
     "execution_count": 21,
     "metadata": {},
     "output_type": "execute_result"
    }
   ],
   "source": [
    "[np.arange(3), label]"
   ]
  },
  {
   "cell_type": "code",
   "execution_count": 18,
   "metadata": {},
   "outputs": [
    {
     "ename": "TypeError",
     "evalue": "'tuple' object is not callable",
     "output_type": "error",
     "traceback": [
      "\u001b[0;31m---------------------------------------------------------------------------\u001b[0m",
      "\u001b[0;31mTypeError\u001b[0m                                 Traceback (most recent call last)",
      "\u001b[0;32m/tmp/ipykernel_653/342105114.py\u001b[0m in \u001b[0;36m<module>\u001b[0;34m\u001b[0m\n\u001b[0;32m----> 1\u001b[0;31m \u001b[0ma\u001b[0m\u001b[0;34m.\u001b[0m\u001b[0mshape\u001b[0m\u001b[0;34m(\u001b[0m\u001b[0;36m0\u001b[0m\u001b[0;34m)\u001b[0m\u001b[0;34m\u001b[0m\u001b[0;34m\u001b[0m\u001b[0m\n\u001b[0m",
      "\u001b[0;31mTypeError\u001b[0m: 'tuple' object is not callable"
     ]
    }
   ],
   "source": [
    "a.shape(0)"
   ]
  },
  {
   "cell_type": "code",
   "execution_count": 11,
   "metadata": {},
   "outputs": [
    {
     "data": {
      "text/plain": [
       "array([[0.74132565, 0.98257441, 0.30329999, 0.39469267, 0.90361997,\n",
       "        0.10707844, 0.32194522, 0.99094675, 0.90762302, 0.37438134],\n",
       "       [0.27511855, 0.41577737, 0.92510595, 0.76710089, 0.85178001,\n",
       "        0.04124238, 0.43768284, 0.50375335, 0.22795274, 0.81031343],\n",
       "       [0.8862414 , 0.98061549, 0.93794237, 0.30013198, 0.43436167,\n",
       "        0.05759991, 0.84319424, 0.1453572 , 0.52032426, 0.00570993]])"
      ]
     },
     "execution_count": 11,
     "metadata": {},
     "output_type": "execute_result"
    }
   ],
   "source": [
    "a"
   ]
  },
  {
   "cell_type": "code",
   "execution_count": 10,
   "metadata": {},
   "outputs": [
    {
     "data": {
      "text/plain": [
       "array([0.39469267, 0.76710089, 0.30013198])"
      ]
     },
     "execution_count": 10,
     "metadata": {},
     "output_type": "execute_result"
    }
   ],
   "source": [
    "a[:,label]"
   ]
  },
  {
   "cell_type": "code",
   "execution_count": null,
   "metadata": {},
   "outputs": [],
   "source": [
    "def conv3x3(in_channels, out_channels, stride=1):\n",
    "    return nn.Conv2d(in_channels, out_channels, kernel_size=3,\n",
    "                    stride=stride, padding=1, bias=False)\n",
    "\n",
    "\n",
    "class ResidualBlock(nn.Module):\n",
    "    def __init__(self, in_channels, out_channels, stride=1, downsample=None):\n",
    "        super(ResidualBlock, self).__init__()\n",
    "        self.conv1 = conv3x3(in_channels, out_channels, stride)\n",
    "        self.bn1 = nn.BatchNorm2d(out_channels)\n",
    "        self.relu = nn.ReLU(inplace=True)\n",
    "        self.conv2 = conv3x3(out_channels, out_channels)\n",
    "        self.bn2 = nn.BatchNorm2d(out_channels)\n",
    "        self.downsample = downsample\n",
    "\n",
    "    def forward(self, x):\n",
    "        residual = x\n",
    "        out = self.conv1(x)\n",
    "        out = self.bn1(out)\n",
    "        out = self.relu(out)\n",
    "        out = self.conv2(out)\n",
    "        out = self.bn2(out)\n",
    "        if self.downsample:\n",
    "            residual = self.downsample(x)\n",
    "        out += residual\n",
    "        out = self.relu(out)\n",
    "        return out    \n",
    "\n",
    "# ResNet\n",
    "class ResNet(nn.Module):\n",
    "    def __init__(self, block, layers, num_classes=10):\n",
    "        super(ResNet, self).__init__()\n",
    "        self.in_channels = 16\n",
    "        self.conv = conv3x3(1, 16)\n",
    "        self.bn = nn.BatchNorm2d(16)\n",
    "        self.relu = nn.ReLU(inplace=True)\n",
    "        self.layer1 = self.make_layer(block, 16, layers[0])\n",
    "        self.layer2 = self.make_layer(block, 32, layers[0], 2)\n",
    "        self.layer3 = self.make_layer(block, 64, layers[1], 2)\n",
    "        self.avg_pool = nn.AvgPool2d(8)\n",
    "        self.fc = nn.Linear(64, num_classes)\n",
    "\n",
    "    def make_layer(self, block, out_channels, blocks, stride=1):\n",
    "        downsample = None\n",
    "        if (stride != 1) or (self.in_channels != out_channels):\n",
    "            downsample = nn.Sequential(\n",
    "                conv3x3(self.in_channels, out_channels, stride=stride),\n",
    "                nn.BatchNorm2d(out_channels))\n",
    "        layers = []\n",
    "        layers.append(block(self.in_channels, out_channels, stride, downsample))\n",
    "        self.in_channels = out_channels\n",
    "        for i in range(1, blocks):\n",
    "            layers.append(block(out_channels, out_channels))\n",
    "        return nn.Sequential(*layers)\n",
    "\n",
    "    def forward(self, x):\n",
    "        out = self.conv(x)\n",
    "        out = self.bn(out)\n",
    "        out = self.layer1(out)\n",
    "        out = self.layer2(out)\n",
    "        out = self.layer3(out)\n",
    "        out = self.avg_pool(out)\n",
    "        out = out.view(out.size(0), -1)\n",
    "        out = self.fc(out)\n",
    "        return out"
   ]
  },
  {
   "cell_type": "code",
   "execution_count": 2,
   "metadata": {},
   "outputs": [],
   "source": [
    "# def conv3x3(in_channels, out_channels, stride=1):\n",
    "#     return nn.Conv2d(in_channels, out_channels, kernel_size=3,\n",
    "#                     stride=stride, padding=1, bias=False)\n",
    "\n",
    "class conv3x3(nn.Module):\n",
    "    def __init__(self, in_channels, out_channels, stride=1):\n",
    "        super(conv3x3, self).__init__()\n",
    "        self.conv = nn.Conv2d(in_channels+1, out_channels, kernel_size=3, stride=stride, padding=1, bias=False)\n",
    "        \n",
    "    def forward(self, x, t):\n",
    "        t = t.expand(1,x.shape[2],x.shape[3],x.shape[0])\n",
    "        tt = t.permute((3,0,1,2))\n",
    "        ttx = torch.cat([tt, x], 1)\n",
    "        return self.conv(ttx)\n",
    "\n",
    "class ResidualBlock(nn.Module):\n",
    "    def __init__(self, in_channels, out_channels, stride=1, downsample=None):\n",
    "        super(ResidualBlock, self).__init__()\n",
    "        self.conv1 = conv3x3(in_channels, out_channels, stride)\n",
    "        self.bn1 = nn.BatchNorm2d(out_channels)\n",
    "        self.relu = nn.ReLU(inplace=True)\n",
    "        self.conv2 = conv3x3(out_channels, out_channels)\n",
    "        self.bn2 = nn.BatchNorm2d(out_channels)\n",
    "        self.downsample = downsample\n",
    "\n",
    "    def forward(self, x, t):\n",
    "        residual = x\n",
    "        out = self.conv1(x, t)\n",
    "        out = self.bn1(out)\n",
    "        out = self.relu(out)\n",
    "        out = self.conv2(out, t)\n",
    "        out = self.bn2(out)\n",
    "        if self.downsample:\n",
    "            residual = self.downsample[0](x, t)\n",
    "            residual = self.downsample[1](residual)\n",
    "        out += residual\n",
    "        out = self.relu(out)\n",
    "        return out\n",
    "\n",
    "class OutsideLayer(nn.Module):\n",
    "    def __init__(self, block, in_channels, out_channels, blocks, stride=1):\n",
    "        super(OutsideLayer, self).__init__()\n",
    "        self.in_channels = in_channels\n",
    "        downsample = None\n",
    "        if (stride != 1) or (self.in_channels != out_channels):\n",
    "            downsample = nn.ModuleList([conv3x3(self.in_channels, out_channels, stride=stride), nn.BatchNorm2d(out_channels)])\n",
    "        layers = nn.ModuleList([])\n",
    "        layers.append(block(self.in_channels, out_channels, stride, downsample))\n",
    "        self.in_channels = out_channels\n",
    "        for i in range(1, blocks):\n",
    "            layers.append(block(out_channels, out_channels))\n",
    "        self.layers = layers\n",
    "        \n",
    "    def forward(self, x, t):\n",
    "        for layer in self.layers:\n",
    "            x = layer(x, t)\n",
    "        return x\n",
    "    \n",
    "\n",
    "# ResNet\n",
    "class ResNet(nn.Module):\n",
    "    def __init__(self, block, layers, num_classes=10):\n",
    "        super(ResNet, self).__init__()\n",
    "        self.in_channels = 16\n",
    "        self.conv = conv3x3(1, 16)\n",
    "        self.bn = nn.BatchNorm2d(16)\n",
    "        self.relu = nn.ReLU(inplace=True)\n",
    "        self.layer1 = OutsideLayer(block, self.in_channels, 16, layers[0])\n",
    "        self.in_channels = self.layer1.in_channels\n",
    "        self.layer2 = OutsideLayer(block, self.in_channels, 32, layers[0], 2)\n",
    "        self.in_channels = self.layer2.in_channels\n",
    "        self.layer3 = OutsideLayer(block, self.in_channels, 64, layers[1], 2)\n",
    "        self.avg_pool = nn.AvgPool2d(8)\n",
    "        self.fc = nn.Linear(64, num_classes)\n",
    "\n",
    "    def make_layer(self, block, out_channels, blocks, stride=1):\n",
    "        downsample = None\n",
    "        if (stride != 1) or (self.in_channels != out_channels):\n",
    "            downsample = nn.Sequential(\n",
    "                conv3x3(self.in_channels, out_channels, stride=stride),\n",
    "                nn.BatchNorm2d(out_channels))\n",
    "        layers = []\n",
    "        layers.append(block(self.in_channels, out_channels, stride, downsample))\n",
    "        self.in_channels = out_channels\n",
    "        for i in range(1, blocks):\n",
    "            layers.append(block(out_channels, out_channels))\n",
    "        return nn.Sequential(*layers)\n",
    "\n",
    "    def forward(self, x, t):\n",
    "        out = self.conv(x, t)\n",
    "        out = self.bn(out)\n",
    "        out = self.layer1(out, t)\n",
    "        out = self.layer2(out, t)\n",
    "        out = self.layer3(out, t)\n",
    "        out = self.avg_pool(out)\n",
    "        out = out.view(out.size(0), -1)\n",
    "        out = self.fc(out)\n",
    "        return out"
   ]
  },
  {
   "cell_type": "code",
   "execution_count": 5,
   "metadata": {},
   "outputs": [],
   "source": [
    "# model = resnet18(num_classes=10)\n",
    "# model.conv1 = nn.Conv2d(1, 64, kernel_size=(7, 7), stride=(2, 2), padding=(3, 3), bias=False)\n",
    "net_args = {\n",
    "    \"block\": ResidualBlock,\n",
    "    \"layers\": [2, 2, 2, 2]\n",
    "}\n",
    "model = ResNet(**net_args)\n",
    "model = model.to(device)\n",
    "model.train()\n",
    "optim = torch.optim.RMSprop(model.parameters(), lr=0.005)\n",
    "loss_func = nn.CrossEntropyLoss()"
   ]
  },
  {
   "cell_type": "code",
   "execution_count": 7,
   "metadata": {},
   "outputs": [
    {
     "data": {
      "application/vnd.jupyter.widget-view+json": {
       "model_id": "cc0a68fead8747aead2ec67a53daf890",
       "version_major": 2,
       "version_minor": 0
      },
      "text/plain": [
       "  0%|          | 0/1200 [00:00<?, ?it/s]"
      ]
     },
     "metadata": {},
     "output_type": "display_data"
    }
   ],
   "source": [
    "for epoch in tqdm(range(600)):\n",
    "    for data in train_loader:\n",
    "        images, labels = data\n",
    "        images = images.to(device)\n",
    "        labels = labels.to(device)\n",
    "        \n",
    "        t = torch.rand(config.data.batch_size).to(device)\n",
    "        noisy_images = SDE_noise(images, t, device)\n",
    "        logits = model(noisy_images, t)\n",
    "\n",
    "\n",
    "        loss = loss_func(logits, labels)\n",
    "        loss.backward()\n",
    "        optim.step()\n",
    "    torch.save(model.state_dict(), 'mnist_noisy_class')"
   ]
  },
  {
   "cell_type": "code",
   "execution_count": 4,
   "metadata": {},
   "outputs": [
    {
     "data": {
      "text/plain": [
       "<All keys matched successfully>"
      ]
     },
     "execution_count": 4,
     "metadata": {},
     "output_type": "execute_result"
    }
   ],
   "source": [
    "model.load_state_dict(torch.load('mnist_noisy_class_t'))"
   ]
  },
  {
   "cell_type": "code",
   "execution_count": 8,
   "metadata": {},
   "outputs": [],
   "source": [
    "sm = nn.Softmax(dim=1)"
   ]
  },
  {
   "cell_type": "code",
   "execution_count": 9,
   "metadata": {},
   "outputs": [],
   "source": [
    "model.eval()"
   ]
  },
  {
   "cell_type": "code",
   "execution_count": 15,
   "metadata": {},
   "outputs": [],
   "source": [
    "def cond_s(model, x, t, label):\n",
    "    x_new = x.clone().detach().requires_grad_(True)\n",
    "    torch.set_grad_enabled(True)\n",
    "    logits = model(x_new, t)\n",
    "    log_probs = torch.log(sm(logits))\n",
    "    cond_scor = torch.autograd.grad(torch.sum(log_probs[:, label]), x_new)\n",
    "    torch.set_grad_enabled(False)\n",
    "    return cond_scor[0]"
   ]
  },
  {
   "cell_type": "code",
   "execution_count": 17,
   "metadata": {},
   "outputs": [],
   "source": [
    "def sample_cond_sde(model, image_size=32, num_channels=1, batch_size_sample=128):\n",
    "    x = solve_sde(device,\n",
    "        torch.randn(batch_size_sample, num_channels, image_size, image_size).to(device),\n",
    "        f=lambda t, x: -10*t*x - 20*t*s(eps_th, t, x) - 20*t*cond_s(model, x, t, label),\n",
    "        g=lambda t, x: (20*t) ** 0.5,\n",
    "        ts=1, tf=0.0, dt=-1e-3\n",
    "    )\n",
    "    return x"
   ]
  },
  {
   "cell_type": "code",
   "execution_count": 18,
   "metadata": {},
   "outputs": [],
   "source": [
    "eps_th = Unet(config)\n",
    "eps_th.to(device)\n",
    "ema_ = ema.ExponentialMovingAverage(eps_th.parameters(), decay=0.9999)"
   ]
  },
  {
   "cell_type": "code",
   "execution_count": 19,
   "metadata": {},
   "outputs": [],
   "source": [
    "state = torch.load(config.model.savepath)\n",
    "eps_th.load_state_dict(state['model'], strict=False)\n",
    "ema_.load_state_dict(state['ema'])"
   ]
  },
  {
   "cell_type": "code",
   "execution_count": 20,
   "metadata": {
    "collapsed": true
   },
   "outputs": [
    {
     "data": {
      "text/plain": [
       "Unet(\n",
       "  (unet): DDPM(\n",
       "    (act): SiLU()\n",
       "    (all_modules): ModuleList(\n",
       "      (0): Linear(in_features=32, out_features=128, bias=True)\n",
       "      (1): Linear(in_features=128, out_features=128, bias=True)\n",
       "      (2): Conv2d(1, 32, kernel_size=(3, 3), stride=(1, 1), padding=(1, 1))\n",
       "      (3): ResnetBlockDDPM(\n",
       "        (GroupNorm_0): GroupNorm(32, 32, eps=1e-06, affine=True)\n",
       "        (act): SiLU()\n",
       "        (Conv_0): Conv2d(32, 32, kernel_size=(3, 3), stride=(1, 1), padding=(1, 1))\n",
       "        (Dense_0): Linear(in_features=128, out_features=32, bias=True)\n",
       "        (GroupNorm_1): GroupNorm(32, 32, eps=1e-06, affine=True)\n",
       "        (Dropout_0): Dropout(p=0.1, inplace=False)\n",
       "        (Conv_1): Conv2d(32, 32, kernel_size=(3, 3), stride=(1, 1), padding=(1, 1))\n",
       "      )\n",
       "      (4): ResnetBlockDDPM(\n",
       "        (GroupNorm_0): GroupNorm(32, 32, eps=1e-06, affine=True)\n",
       "        (act): SiLU()\n",
       "        (Conv_0): Conv2d(32, 32, kernel_size=(3, 3), stride=(1, 1), padding=(1, 1))\n",
       "        (Dense_0): Linear(in_features=128, out_features=32, bias=True)\n",
       "        (GroupNorm_1): GroupNorm(32, 32, eps=1e-06, affine=True)\n",
       "        (Dropout_0): Dropout(p=0.1, inplace=False)\n",
       "        (Conv_1): Conv2d(32, 32, kernel_size=(3, 3), stride=(1, 1), padding=(1, 1))\n",
       "      )\n",
       "      (5): Downsample(\n",
       "        (Conv_0): Conv2d(32, 32, kernel_size=(3, 3), stride=(2, 2))\n",
       "      )\n",
       "      (6): ResnetBlockDDPM(\n",
       "        (GroupNorm_0): GroupNorm(32, 32, eps=1e-06, affine=True)\n",
       "        (act): SiLU()\n",
       "        (Conv_0): Conv2d(32, 64, kernel_size=(3, 3), stride=(1, 1), padding=(1, 1))\n",
       "        (Dense_0): Linear(in_features=128, out_features=64, bias=True)\n",
       "        (GroupNorm_1): GroupNorm(32, 64, eps=1e-06, affine=True)\n",
       "        (Dropout_0): Dropout(p=0.1, inplace=False)\n",
       "        (Conv_1): Conv2d(64, 64, kernel_size=(3, 3), stride=(1, 1), padding=(1, 1))\n",
       "        (NIN_0): NIN()\n",
       "      )\n",
       "      (7): AttnBlock(\n",
       "        (GroupNorm_0): GroupNorm(32, 64, eps=1e-06, affine=True)\n",
       "        (NIN_0): NIN()\n",
       "        (NIN_1): NIN()\n",
       "        (NIN_2): NIN()\n",
       "        (NIN_3): NIN()\n",
       "      )\n",
       "      (8): ResnetBlockDDPM(\n",
       "        (GroupNorm_0): GroupNorm(32, 64, eps=1e-06, affine=True)\n",
       "        (act): SiLU()\n",
       "        (Conv_0): Conv2d(64, 64, kernel_size=(3, 3), stride=(1, 1), padding=(1, 1))\n",
       "        (Dense_0): Linear(in_features=128, out_features=64, bias=True)\n",
       "        (GroupNorm_1): GroupNorm(32, 64, eps=1e-06, affine=True)\n",
       "        (Dropout_0): Dropout(p=0.1, inplace=False)\n",
       "        (Conv_1): Conv2d(64, 64, kernel_size=(3, 3), stride=(1, 1), padding=(1, 1))\n",
       "      )\n",
       "      (9): AttnBlock(\n",
       "        (GroupNorm_0): GroupNorm(32, 64, eps=1e-06, affine=True)\n",
       "        (NIN_0): NIN()\n",
       "        (NIN_1): NIN()\n",
       "        (NIN_2): NIN()\n",
       "        (NIN_3): NIN()\n",
       "      )\n",
       "      (10): Downsample(\n",
       "        (Conv_0): Conv2d(64, 64, kernel_size=(3, 3), stride=(2, 2))\n",
       "      )\n",
       "      (11): ResnetBlockDDPM(\n",
       "        (GroupNorm_0): GroupNorm(32, 64, eps=1e-06, affine=True)\n",
       "        (act): SiLU()\n",
       "        (Conv_0): Conv2d(64, 64, kernel_size=(3, 3), stride=(1, 1), padding=(1, 1))\n",
       "        (Dense_0): Linear(in_features=128, out_features=64, bias=True)\n",
       "        (GroupNorm_1): GroupNorm(32, 64, eps=1e-06, affine=True)\n",
       "        (Dropout_0): Dropout(p=0.1, inplace=False)\n",
       "        (Conv_1): Conv2d(64, 64, kernel_size=(3, 3), stride=(1, 1), padding=(1, 1))\n",
       "      )\n",
       "      (12): ResnetBlockDDPM(\n",
       "        (GroupNorm_0): GroupNorm(32, 64, eps=1e-06, affine=True)\n",
       "        (act): SiLU()\n",
       "        (Conv_0): Conv2d(64, 64, kernel_size=(3, 3), stride=(1, 1), padding=(1, 1))\n",
       "        (Dense_0): Linear(in_features=128, out_features=64, bias=True)\n",
       "        (GroupNorm_1): GroupNorm(32, 64, eps=1e-06, affine=True)\n",
       "        (Dropout_0): Dropout(p=0.1, inplace=False)\n",
       "        (Conv_1): Conv2d(64, 64, kernel_size=(3, 3), stride=(1, 1), padding=(1, 1))\n",
       "      )\n",
       "      (13): ResnetBlockDDPM(\n",
       "        (GroupNorm_0): GroupNorm(32, 64, eps=1e-06, affine=True)\n",
       "        (act): SiLU()\n",
       "        (Conv_0): Conv2d(64, 64, kernel_size=(3, 3), stride=(1, 1), padding=(1, 1))\n",
       "        (Dense_0): Linear(in_features=128, out_features=64, bias=True)\n",
       "        (GroupNorm_1): GroupNorm(32, 64, eps=1e-06, affine=True)\n",
       "        (Dropout_0): Dropout(p=0.1, inplace=False)\n",
       "        (Conv_1): Conv2d(64, 64, kernel_size=(3, 3), stride=(1, 1), padding=(1, 1))\n",
       "      )\n",
       "      (14): AttnBlock(\n",
       "        (GroupNorm_0): GroupNorm(32, 64, eps=1e-06, affine=True)\n",
       "        (NIN_0): NIN()\n",
       "        (NIN_1): NIN()\n",
       "        (NIN_2): NIN()\n",
       "        (NIN_3): NIN()\n",
       "      )\n",
       "      (15): ResnetBlockDDPM(\n",
       "        (GroupNorm_0): GroupNorm(32, 64, eps=1e-06, affine=True)\n",
       "        (act): SiLU()\n",
       "        (Conv_0): Conv2d(64, 64, kernel_size=(3, 3), stride=(1, 1), padding=(1, 1))\n",
       "        (Dense_0): Linear(in_features=128, out_features=64, bias=True)\n",
       "        (GroupNorm_1): GroupNorm(32, 64, eps=1e-06, affine=True)\n",
       "        (Dropout_0): Dropout(p=0.1, inplace=False)\n",
       "        (Conv_1): Conv2d(64, 64, kernel_size=(3, 3), stride=(1, 1), padding=(1, 1))\n",
       "      )\n",
       "      (16): ResnetBlockDDPM(\n",
       "        (GroupNorm_0): GroupNorm(32, 128, eps=1e-06, affine=True)\n",
       "        (act): SiLU()\n",
       "        (Conv_0): Conv2d(128, 64, kernel_size=(3, 3), stride=(1, 1), padding=(1, 1))\n",
       "        (Dense_0): Linear(in_features=128, out_features=64, bias=True)\n",
       "        (GroupNorm_1): GroupNorm(32, 64, eps=1e-06, affine=True)\n",
       "        (Dropout_0): Dropout(p=0.1, inplace=False)\n",
       "        (Conv_1): Conv2d(64, 64, kernel_size=(3, 3), stride=(1, 1), padding=(1, 1))\n",
       "        (NIN_0): NIN()\n",
       "      )\n",
       "      (17): ResnetBlockDDPM(\n",
       "        (GroupNorm_0): GroupNorm(32, 128, eps=1e-06, affine=True)\n",
       "        (act): SiLU()\n",
       "        (Conv_0): Conv2d(128, 64, kernel_size=(3, 3), stride=(1, 1), padding=(1, 1))\n",
       "        (Dense_0): Linear(in_features=128, out_features=64, bias=True)\n",
       "        (GroupNorm_1): GroupNorm(32, 64, eps=1e-06, affine=True)\n",
       "        (Dropout_0): Dropout(p=0.1, inplace=False)\n",
       "        (Conv_1): Conv2d(64, 64, kernel_size=(3, 3), stride=(1, 1), padding=(1, 1))\n",
       "        (NIN_0): NIN()\n",
       "      )\n",
       "      (18): ResnetBlockDDPM(\n",
       "        (GroupNorm_0): GroupNorm(32, 128, eps=1e-06, affine=True)\n",
       "        (act): SiLU()\n",
       "        (Conv_0): Conv2d(128, 64, kernel_size=(3, 3), stride=(1, 1), padding=(1, 1))\n",
       "        (Dense_0): Linear(in_features=128, out_features=64, bias=True)\n",
       "        (GroupNorm_1): GroupNorm(32, 64, eps=1e-06, affine=True)\n",
       "        (Dropout_0): Dropout(p=0.1, inplace=False)\n",
       "        (Conv_1): Conv2d(64, 64, kernel_size=(3, 3), stride=(1, 1), padding=(1, 1))\n",
       "        (NIN_0): NIN()\n",
       "      )\n",
       "      (19): Upsample(\n",
       "        (Conv_0): Conv2d(64, 64, kernel_size=(3, 3), stride=(1, 1), padding=(1, 1))\n",
       "      )\n",
       "      (20): ResnetBlockDDPM(\n",
       "        (GroupNorm_0): GroupNorm(32, 128, eps=1e-06, affine=True)\n",
       "        (act): SiLU()\n",
       "        (Conv_0): Conv2d(128, 64, kernel_size=(3, 3), stride=(1, 1), padding=(1, 1))\n",
       "        (Dense_0): Linear(in_features=128, out_features=64, bias=True)\n",
       "        (GroupNorm_1): GroupNorm(32, 64, eps=1e-06, affine=True)\n",
       "        (Dropout_0): Dropout(p=0.1, inplace=False)\n",
       "        (Conv_1): Conv2d(64, 64, kernel_size=(3, 3), stride=(1, 1), padding=(1, 1))\n",
       "        (NIN_0): NIN()\n",
       "      )\n",
       "      (21): ResnetBlockDDPM(\n",
       "        (GroupNorm_0): GroupNorm(32, 128, eps=1e-06, affine=True)\n",
       "        (act): SiLU()\n",
       "        (Conv_0): Conv2d(128, 64, kernel_size=(3, 3), stride=(1, 1), padding=(1, 1))\n",
       "        (Dense_0): Linear(in_features=128, out_features=64, bias=True)\n",
       "        (GroupNorm_1): GroupNorm(32, 64, eps=1e-06, affine=True)\n",
       "        (Dropout_0): Dropout(p=0.1, inplace=False)\n",
       "        (Conv_1): Conv2d(64, 64, kernel_size=(3, 3), stride=(1, 1), padding=(1, 1))\n",
       "        (NIN_0): NIN()\n",
       "      )\n",
       "      (22): ResnetBlockDDPM(\n",
       "        (GroupNorm_0): GroupNorm(32, 96, eps=1e-06, affine=True)\n",
       "        (act): SiLU()\n",
       "        (Conv_0): Conv2d(96, 64, kernel_size=(3, 3), stride=(1, 1), padding=(1, 1))\n",
       "        (Dense_0): Linear(in_features=128, out_features=64, bias=True)\n",
       "        (GroupNorm_1): GroupNorm(32, 64, eps=1e-06, affine=True)\n",
       "        (Dropout_0): Dropout(p=0.1, inplace=False)\n",
       "        (Conv_1): Conv2d(64, 64, kernel_size=(3, 3), stride=(1, 1), padding=(1, 1))\n",
       "        (NIN_0): NIN()\n",
       "      )\n",
       "      (23): AttnBlock(\n",
       "        (GroupNorm_0): GroupNorm(32, 64, eps=1e-06, affine=True)\n",
       "        (NIN_0): NIN()\n",
       "        (NIN_1): NIN()\n",
       "        (NIN_2): NIN()\n",
       "        (NIN_3): NIN()\n",
       "      )\n",
       "      (24): Upsample(\n",
       "        (Conv_0): Conv2d(64, 64, kernel_size=(3, 3), stride=(1, 1), padding=(1, 1))\n",
       "      )\n",
       "      (25): ResnetBlockDDPM(\n",
       "        (GroupNorm_0): GroupNorm(32, 96, eps=1e-06, affine=True)\n",
       "        (act): SiLU()\n",
       "        (Conv_0): Conv2d(96, 32, kernel_size=(3, 3), stride=(1, 1), padding=(1, 1))\n",
       "        (Dense_0): Linear(in_features=128, out_features=32, bias=True)\n",
       "        (GroupNorm_1): GroupNorm(32, 32, eps=1e-06, affine=True)\n",
       "        (Dropout_0): Dropout(p=0.1, inplace=False)\n",
       "        (Conv_1): Conv2d(32, 32, kernel_size=(3, 3), stride=(1, 1), padding=(1, 1))\n",
       "        (NIN_0): NIN()\n",
       "      )\n",
       "      (26): ResnetBlockDDPM(\n",
       "        (GroupNorm_0): GroupNorm(32, 64, eps=1e-06, affine=True)\n",
       "        (act): SiLU()\n",
       "        (Conv_0): Conv2d(64, 32, kernel_size=(3, 3), stride=(1, 1), padding=(1, 1))\n",
       "        (Dense_0): Linear(in_features=128, out_features=32, bias=True)\n",
       "        (GroupNorm_1): GroupNorm(32, 32, eps=1e-06, affine=True)\n",
       "        (Dropout_0): Dropout(p=0.1, inplace=False)\n",
       "        (Conv_1): Conv2d(32, 32, kernel_size=(3, 3), stride=(1, 1), padding=(1, 1))\n",
       "        (NIN_0): NIN()\n",
       "      )\n",
       "      (27): ResnetBlockDDPM(\n",
       "        (GroupNorm_0): GroupNorm(32, 64, eps=1e-06, affine=True)\n",
       "        (act): SiLU()\n",
       "        (Conv_0): Conv2d(64, 32, kernel_size=(3, 3), stride=(1, 1), padding=(1, 1))\n",
       "        (Dense_0): Linear(in_features=128, out_features=32, bias=True)\n",
       "        (GroupNorm_1): GroupNorm(32, 32, eps=1e-06, affine=True)\n",
       "        (Dropout_0): Dropout(p=0.1, inplace=False)\n",
       "        (Conv_1): Conv2d(32, 32, kernel_size=(3, 3), stride=(1, 1), padding=(1, 1))\n",
       "        (NIN_0): NIN()\n",
       "      )\n",
       "      (28): GroupNorm(32, 32, eps=1e-06, affine=True)\n",
       "      (29): Conv2d(32, 1, kernel_size=(3, 3), stride=(1, 1), padding=(1, 1))\n",
       "    )\n",
       "  )\n",
       ")"
      ]
     },
     "execution_count": 20,
     "metadata": {},
     "output_type": "execute_result"
    }
   ],
   "source": [
    "ema_.copy_to(eps_th.parameters())\n",
    "eps_th.eval()"
   ]
  },
  {
   "cell_type": "code",
   "execution_count": 21,
   "metadata": {},
   "outputs": [],
   "source": [
    "label = 0\n",
    "x = sample_cond_sde(model)"
   ]
  },
  {
   "cell_type": "code",
   "execution_count": 22,
   "metadata": {},
   "outputs": [],
   "source": [
    "big_img = np.zeros((8*32,8*32),dtype=np.uint8)\n",
    "for i in range(8):\n",
    "    for j in range(8):\n",
    "        y = 0.5*x + 0.5\n",
    "        p = y[i*8+j] * 255\n",
    "        p = p.clamp(0, 255)\n",
    "        p = p.detach().cpu().numpy()\n",
    "        p = p.astype(np.uint8)\n",
    "        p = p.transpose((1,2,0))\n",
    "        p = p.squeeze(2)\n",
    "        big_img[i*32:(i+1)*32, j*32:(j+1)*32] = p\n",
    "big_img = Image.fromarray(big_img)"
   ]
  },
  {
   "cell_type": "code",
   "execution_count": 23,
   "metadata": {},
   "outputs": [
    {
     "data": {
      "image/png": "[encoded data removed]",
      "text/plain": [
       "<PIL.Image.Image image mode=L size=256x256 at 0x7F9BCD21ACC0>"
      ]
     },
     "execution_count": 23,
     "metadata": {},
     "output_type": "execute_result"
    }
   ],
   "source": [
    "big_img"
   ]
  },
  {
   "cell_type": "code",
   "execution_count": 26,
   "metadata": {},
   "outputs": [
    {
     "name": "stdout",
     "output_type": "stream",
     "text": [
      "0.55078125\n"
     ]
    }
   ],
   "source": [
    "k=0\n",
    "for label in range(10):\n",
    "    x = sample_cond_sde(model)\n",
    "    logits = model(x, torch.zeros(128).to(device))\n",
    "    N = 128\n",
    "    for i in range(N):\n",
    "        if torch.argmax(logits[i]).cpu() == label:\n",
    "            k += 1\n",
    "print(k/(10*N))"
   ]
  },
  {
   "cell_type": "code",
   "execution_count": null,
   "metadata": {},
   "outputs": [],
   "source": []
  }
 ],
 "metadata": {
  "kernelspec": {
   "display_name": "Python 3 (ipykernel)",
   "language": "python",
   "name": "python3"
  },
  "language_info": {
   "codemirror_mode": {
    "name": "ipython",
    "version": 3
   },
   "file_extension": ".py",
   "mimetype": "text/x-python",
   "name": "python",
   "nbconvert_exporter": "python",
   "pygments_lexer": "ipython3",
   "version": "3.7.3"
  }
 },
 "nbformat": 4,
 "nbformat_minor": 2
}
