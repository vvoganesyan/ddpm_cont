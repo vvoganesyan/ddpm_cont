{
 "cells": [
  {
   "cell_type": "markdown",
   "metadata": {},
   "source": [
    "# Imports"
   ]
  },
  {
   "cell_type": "code",
   "execution_count": 1,
   "metadata": {},
   "outputs": [
    {
     "name": "stderr",
     "output_type": "stream",
     "text": [
      "\u001b[34m\u001b[1mwandb\u001b[0m: Currently logged in as: \u001b[33mvvoganesyan\u001b[0m (use `wandb login --relogin` to force relogin)\n"
     ]
    },
    {
     "name": "stdout",
     "output_type": "stream",
     "text": [
      "Files already downloaded and verified\n",
      "Files already downloaded and verified\n"
     ]
    }
   ],
   "source": [
    "from train.utils import *\n",
    "import os\n",
    "import shutil\n",
    "from PIL import Image\n",
    "from pytorch_fid import fid_score\n",
    "import copy\n",
    "\n",
    "import torch.distributions as D\n",
    "\n",
    "import torch.optim.lr_scheduler as lrsc\n",
    "import wandb\n",
    "import matplotlib.pyplot as plt\n",
    "from tqdm.auto import tqdm, trange\n",
    "\n",
    "model_dict = dict()\n",
    "model_dict['nf'] = 128\n",
    "model_dict['ch_mult'] = (1, 2, 2, 2)\n",
    "model_dict['num_res_blocks'] = 4\n",
    "model_dict['attn_resolutions'] = (16,)\n",
    "model_dict['dropout'] = 0.1\n",
    "model_dict['resamp_with_conv'] = True\n",
    "model_dict['conditional'] = True\n",
    "model_dict['nonlinearity'] = 'swish'\n",
    "model_dict['sigma_max'] = 50\n",
    "model_dict['sigma_min'] = 0.01\n",
    "model_dict['num_scales'] = 1000\n",
    "data_dict = dict()\n",
    "data_dict['image_size'] = 32\n",
    "data_dict['num_channels'] = 3\n",
    "data_dict['centered'] = True\n",
    "config_dict = dict()\n",
    "config_dict['model'] = dotdict(model_dict)\n",
    "config_dict['data'] = dotdict(data_dict)\n",
    "config = dotdict(config_dict)\n",
    "\n",
    "\n",
    "device = torch.device('cuda' if torch.cuda.is_available() else 'cpu')\n",
    "wandb.login()\n",
    "train_loader, val_loader = get_datasets()"
   ]
  },
  {
   "cell_type": "code",
   "execution_count": 2,
   "metadata": {},
   "outputs": [],
   "source": [
    "# config.data.image_size = 16"
   ]
  },
  {
   "cell_type": "markdown",
   "metadata": {},
   "source": [
    "# Exp"
   ]
  },
  {
   "cell_type": "code",
   "execution_count": 3,
   "metadata": {
    "scrolled": false
   },
   "outputs": [],
   "source": [
    "eps_th = nn.DataParallel(Unet(config))\n",
    "# eps_th = Unet(config)\n",
    "eps_th.to(device)\n",
    "\n",
    "optim = torch.optim.Adam(eps_th.parameters(), lr=2e-4, betas=(0.9, 0.999), eps=1e-8, weight_decay=0)\n",
    "ema_ = ema.ExponentialMovingAverage(eps_th.parameters(), decay=0.9999)\n",
    "sched = lrsc.StepLR(optim, step_size=30, gamma=0.1)"
   ]
  },
  {
   "cell_type": "code",
   "execution_count": 4,
   "metadata": {},
   "outputs": [],
   "source": [
    "# eps_th.module.load_state_dict(torch.load('ddpm_model'))\n",
    "# ema_.load_state_dict(torch.load('ddpm_ema'))\n",
    "# optim.load_state_dict(torch.load('ddpm_optim'))"
   ]
  },
  {
   "cell_type": "code",
   "execution_count": null,
   "metadata": {
    "scrolled": false
   },
   "outputs": [
    {
     "name": "stderr",
     "output_type": "stream",
     "text": [
      "\u001b[34m\u001b[1mwandb\u001b[0m: wandb version 0.12.10 is available!  To upgrade, please run:\n",
      "\u001b[34m\u001b[1mwandb\u001b[0m:  $ pip install wandb --upgrade\n"
     ]
    },
    {
     "data": {
      "text/html": [
       "\n",
       "                    Syncing run <strong><a href=\"https://wandb.ai/vvoganesyan/sota_cifar/runs/1477zusa\" target=\"_blank\">fine-cloud-31</a></strong> to <a href=\"https://wandb.ai/vvoganesyan/sota_cifar\" target=\"_blank\">Weights & Biases</a> (<a href=\"https://docs.wandb.com/integrations/jupyter.html\" target=\"_blank\">docs</a>).<br/>\n",
       "\n",
       "                "
      ],
      "text/plain": [
       "<IPython.core.display.HTML object>"
      ]
     },
     "metadata": {},
     "output_type": "display_data"
    },
    {
     "data": {
      "application/vnd.jupyter.widget-view+json": {
       "model_id": "4648a340f19144f4a4e6fe8dd82ff319",
       "version_major": 2,
       "version_minor": 0
      },
      "text/plain": [
       "HBox(children=(HTML(value=''), FloatProgress(value=0.0, max=1152.0), HTML(value='')))"
      ]
     },
     "metadata": {},
     "output_type": "display_data"
    }
   ],
   "source": [
    "wandb.init(project='sota_cifar')\n",
    "train(eps_th, train_loader, optim, ema_, 1152, 0, 1.0, 'ddpm_32x32', device)"
   ]
  },
  {
   "cell_type": "code",
   "execution_count": null,
   "metadata": {},
   "outputs": [],
   "source": []
  }
 ],
 "metadata": {
  "kernelspec": {
   "display_name": "Python 3",
   "language": "python",
   "name": "python3"
  },
  "language_info": {
   "codemirror_mode": {
    "name": "ipython",
    "version": 3
   },
   "file_extension": ".py",
   "mimetype": "text/x-python",
   "name": "python",
   "nbconvert_exporter": "python",
   "pygments_lexer": "ipython3",
   "version": "3.8.5"
  }
 },
 "nbformat": 4,
 "nbformat_minor": 2
}
